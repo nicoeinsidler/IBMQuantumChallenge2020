{
 "cells": [
  {
   "cell_type": "code",
   "execution_count": 57,
   "metadata": {},
   "outputs": [],
   "source": [
    "def week3_ans_func(problem_set):\n",
    "    \n",
    "    qc=solution(problem_set)\n",
    "    \n",
    "    return qc"
   ]
  },
  {
   "cell_type": "code",
   "execution_count": 58,
   "metadata": {},
   "outputs": [
    {
     "name": "stdout",
     "output_type": "stream",
     "text": [
      "Running week3_ans_func...\n",
      "Computing cost...\n",
      "Starting experiments. Please wait...\n",
      "You may monitor the job (id: 5fc44b10d3dc27001a674fa5) status and proceed to grading when it successfully completes.\n"
     ]
    },
    {
     "data": {
      "text/plain": [
       "{'0000': 34,\n",
       " '0001': 38,\n",
       " '0010': 40,\n",
       " '0011': 33,\n",
       " '0100': 32,\n",
       " '0101': 473,\n",
       " '0110': 44,\n",
       " '0111': 40,\n",
       " '1000': 30,\n",
       " '1001': 31,\n",
       " '1010': 34,\n",
       " '1011': 31,\n",
       " '1100': 37,\n",
       " '1101': 33,\n",
       " '1110': 34,\n",
       " '1111': 36}"
      ]
     },
     "execution_count": 58,
     "metadata": {},
     "output_type": "execute_result"
    }
   ],
   "source": [
    "# Submission code\n",
    "from qc_grader import grade_ex3, prepare_ex3, submit_ex3\n",
    "\n",
    "# Execute your circuit with following prepare_ex3() function.\n",
    "# The prepare_ex3() function works like the execute() function with only QuantumCircuit as an argument.\n",
    "job = prepare_ex3(week3_ans_func)\n",
    "\n",
    "result = job.result()\n",
    "counts = result.get_counts()\n",
    "original_problem_set_counts = counts[0]\n",
    "\n",
    "original_problem_set_counts\n",
    "# The bit string with the highest number of observations is treated as the solution."
   ]
  },
  {
   "cell_type": "code",
   "execution_count": 59,
   "metadata": {},
   "outputs": [
    {
     "name": "stdout",
     "output_type": "stream",
     "text": [
      "Grading your answer. Please wait...\n",
      "\n",
      "Congratulations 🎉! Your answer is correct.\n",
      "Your score is 98993.\n",
      "The lower your score the better!\n",
      "Feel free to submit your answer.\n"
     ]
    }
   ],
   "source": [
    "# Check your answer by executing following code.\n",
    "# The quantum cost of the QuantumCircuit is obtained as the score. The lower the cost, the better.\n",
    "grade_ex3(job)"
   ]
  },
  {
   "cell_type": "code",
   "execution_count": 45,
   "metadata": {},
   "outputs": [
    {
     "name": "stdout",
     "output_type": "stream",
     "text": [
      "Submitting your answer. Please wait...\n",
      "\n",
      "Success 🎉! Your answer has been submitted.\n",
      "Congratulations! You have rescued Dr. Ryoko from the quantum realm. The bright \"quantum future\" is ahead.\n"
     ]
    }
   ],
   "source": [
    "# Submit your results by executing following code. You can submit as many times as you like during the period. \n",
    "submit_ex3(job)"
   ]
  },
  {
   "cell_type": "code",
   "execution_count": 56,
   "metadata": {},
   "outputs": [],
   "source": [
    "from qiskit import *\n",
    "from qiskit import QuantumRegister, ClassicalRegister, QuantumCircuit\n",
    "from qiskit import IBMQ, Aer, execute\n",
    "from qiskit.visualization import plot_histogram\n",
    "import numpy as np\n",
    "from itertools import permutations\n",
    "\n",
    "problem_set = \\\n",
    "    [[['0', '2'], ['1', '0'], ['1', '2'], ['1', '3'], ['2', '0'], ['3', '3']],\n",
    "    [['0', '0'], ['0', '1'], ['1', '2'], ['2', '2'], ['3', '0'], ['3', '3']],\n",
    "    [['0', '0'], ['1', '1'], ['1', '3'], ['2', '0'], ['3', '2'], ['3', '3']],\n",
    "    [['0', '0'], ['0', '1'], ['1', '1'], ['1', '3'], ['3', '2'], ['3', '3']],\n",
    "    [['0', '2'], ['1', '0'], ['1', '3'], ['2', '0'], ['3', '2'], ['3', '3']],\n",
    "    [['1', '1'], ['1', '2'], ['2', '0'], ['2', '1'], ['3', '1'], ['3', '3']],\n",
    "    [['0', '2'], ['0', '3'], ['1', '2'], ['2', '0'], ['2', '1'], ['3', '3']],\n",
    "    [['0', '0'], ['0', '3'], ['1', '2'], ['2', '2'], ['2', '3'], ['3', '0']],\n",
    "    [['0', '3'], ['1', '1'], ['1', '2'], ['2', '0'], ['2', '1'], ['3', '3']],\n",
    "    [['0', '0'], ['0', '1'], ['1', '3'], ['2', '1'], ['2', '3'], ['3', '0']],\n",
    "    [['0', '1'], ['0', '3'], ['1', '2'], ['1', '3'], ['2', '0'], ['3', '2']],\n",
    "    [['0', '0'], ['1', '3'], ['2', '0'], ['2', '1'], ['2', '3'], ['3', '1']],\n",
    "    [['0', '1'], ['0', '2'], ['1', '0'], ['1', '2'], ['2', '2'], ['2', '3']],\n",
    "    [['0', '3'], ['1', '0'], ['1', '3'], ['2', '1'], ['2', '2'], ['3', '0']],\n",
    "    [['0', '2'], ['0', '3'], ['1', '2'], ['2', '3'], ['3', '0'], ['3', '1']],\n",
    "    [['0', '1'], ['1', '0'], ['1', '2'], ['2', '2'], ['3', '0'], ['3', '1']]]\n",
    "\n",
    "def write_boards(qc, b, a, boards):\n",
    "    boards = [[[str(j),str(i)] in board for j in range(4) for i in range(4)] for board in boards]\n",
    "    for i, board in enumerate(boards):\n",
    "        address_pattern = list(map(bool, map(int, list(format(i, '04b')))))\n",
    "        \n",
    "        # add NOT if needed for address\n",
    "        for x, maybe in enumerate(address_pattern): \n",
    "            if not maybe:\n",
    "                qc.x(b[x])\n",
    "                \n",
    "        for j, asteroid in enumerate(board):\n",
    "            if asteroid:\n",
    "                qc.mct(b, a[j], mode='noancilla')\n",
    "            \n",
    "        # undo all NOT if needed for address\n",
    "        for x, maybe in enumerate(address_pattern): \n",
    "            if not maybe:\n",
    "                qc.x(b[x])\n",
    "                \n",
    "        qc.barrier()\n",
    "\n",
    "def oracle(qc, a, o,z):\n",
    "    for i in range(4):\n",
    "        i1 = [0,1,2,3]\n",
    "        i1.remove(i)\n",
    "        for j in i1:\n",
    "            i2 = list(i1)\n",
    "            i2.remove(j)\n",
    "            for k in i2:\n",
    "                i3 = list(i2)\n",
    "                i3.remove(k)\n",
    "                for l in i3:\n",
    "                    qc.mct([a[i], a[j+4], a[k+8], a[l+12]], o,z, mode='v-chain-dirty')\n",
    "                    #mct(control_qubits, target_qubit, ancilla_qubits=None, mode='noancilla')\n",
    "\n",
    "                    \n",
    "def diffusion(qc, qr):\n",
    "    last = len(qr) - 1\n",
    "    \n",
    "    qc.h(qr)\n",
    "    qc.x(qr)\n",
    "    qc.h(qr[last])\n",
    "    qc.mct(qr[0:last], qr[last])\n",
    "    qc.h(qr[last])\n",
    "    qc.x(qr)\n",
    "    qc.h(qr)\n",
    "    \n",
    "def solution(problem_set):\n",
    "    b = QuantumRegister(4, name='boards')\n",
    "    a = QuantumRegister(16, name='asteroids')\n",
    "    o = QuantumRegister(1, name='oracle')\n",
    "    z = QuantumRegister(2, name='ancilla')\n",
    "    \n",
    "    c = ClassicalRegister(4, name='output')\n",
    "    \n",
    "    qc = QuantumCircuit(b,a,o,c,z)\n",
    "    \n",
    "    qc.x(o)\n",
    "    qc.h(o)\n",
    "    \n",
    "    qc.h(b)\n",
    "    \n",
    "    write_boards(qc, b, a, problem_set)\n",
    "    \n",
    "    oracle(qc, a, o,z)\n",
    "    \n",
    "    write_boards(qc, b, a, problem_set)\n",
    "    \n",
    "    diffusion(qc, b)\n",
    "    \n",
    "    qc.h(o)\n",
    "    qc.x(o)\n",
    "    \n",
    "    qc.measure(b,c)\n",
    "    return qc"
   ]
  }
 ],
 "metadata": {
  "kernelspec": {
   "display_name": "Python 3",
   "language": "python",
   "name": "python3"
  },
  "language_info": {
   "codemirror_mode": {
    "name": "ipython",
    "version": 3
   },
   "file_extension": ".py",
   "mimetype": "text/x-python",
   "name": "python",
   "nbconvert_exporter": "python",
   "pygments_lexer": "ipython3",
   "version": "3.7.3"
  }
 },
 "nbformat": 4,
 "nbformat_minor": 4
}
