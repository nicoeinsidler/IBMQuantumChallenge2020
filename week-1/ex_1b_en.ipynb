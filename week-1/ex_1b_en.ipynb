{
 "cells": [
  {
   "cell_type": "markdown",
   "metadata": {},
   "source": [
    "# Week1-B: Grover's Algorithm"
   ]
  },
  {
   "cell_type": "markdown",
   "metadata": {},
   "source": [
    "## Learning Exercise I-B\n",
    "Find the number of iterations with the largest amplitude when you run the Grover's algorithm with one solution in a database with $N = 2 ^ 7$. As shown above (see [original notebook](https://github.com/qiskit-community/IBMQuantumChallenge2020/blob/main/exercises/week-1/ex_1b_en.ipynb)), change the number of iterations and check the amplification. The answer must be an integer.\n",
    "\n",
    "Hint: Fewer than 15 times. "
   ]
  },
  {
   "cell_type": "code",
   "execution_count": null,
   "metadata": {},
   "outputs": [],
   "source": [
    "# Change ans of following code and check your answer.\n",
    "# ans must be an interger.\n",
    "\n",
    "from qc_grader import grade_ex1b\n",
    "grade_ex1b(ans)"
   ]
  },
  {
   "cell_type": "code",
   "execution_count": null,
   "metadata": {},
   "outputs": [],
   "source": [
    "# Change ans of following code and submit it.\n",
    "# ans must be interger.\n",
    "\n",
    "from qc_grader import submit_ex1b\n",
    "submit_ex1b(ans)"
   ]
  }
 ],
 "metadata": {
  "kernelspec": {
   "display_name": "Python 3",
   "language": "python",
   "name": "python3"
  },
  "language_info": {
   "codemirror_mode": {
    "name": "ipython",
    "version": 3
   },
   "file_extension": ".py",
   "mimetype": "text/x-python",
   "name": "python",
   "nbconvert_exporter": "python",
   "pygments_lexer": "ipython3",
   "version": "3.7.3"
  }
 },
 "nbformat": 4,
 "nbformat_minor": 4
}
